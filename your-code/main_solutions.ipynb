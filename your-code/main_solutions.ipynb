{
 "cells": [
  {
   "cell_type": "code",
   "execution_count": 1,
   "id": "e5ec648b",
   "metadata": {},
   "outputs": [],
   "source": [
    "# 1. Import the NUMPY package under the name np.\n",
    "import numpy as np"
   ]
  },
  {
   "cell_type": "code",
   "execution_count": 2,
   "id": "e0e269b2",
   "metadata": {},
   "outputs": [
    {
     "data": {
      "text/plain": [
       "'1.20.3'"
      ]
     },
     "execution_count": 2,
     "metadata": {},
     "output_type": "execute_result"
    }
   ],
   "source": [
    "#2. Print the NUMPY version and the configuration.\n",
    "np.__version__"
   ]
  },
  {
   "cell_type": "code",
   "execution_count": 4,
   "id": "739848c6",
   "metadata": {},
   "outputs": [],
   "source": [
    "#3. Generate a 2x3x5 3-dimensional array with random values. Assign the array to variable \"a\"\n",
    "\n",
    "# Challenge: there are at least three easy ways that use numpy to generate random arrays. How many ways can you find?\n",
    "\n",
    "\n",
    "# 2 subarreglos con 3 sub-sub-arreglos cada uno\n",
    "# con 5 elementos cada uno\n",
    "a = np.random.random((2, 3, 5))"
   ]
  },
  {
   "cell_type": "code",
   "execution_count": 5,
   "id": "af713ec7",
   "metadata": {},
   "outputs": [
    {
     "name": "stdout",
     "output_type": "stream",
     "text": [
      "[[[8.70361075e-01 1.88685144e-01 3.60165814e-01 9.91332959e-01\n",
      "   1.71502695e-01]\n",
      "  [6.11567477e-01 4.63573269e-02 4.64298253e-01 8.81481931e-01\n",
      "   6.84251463e-01]\n",
      "  [5.79678383e-01 6.50771843e-01 5.53737696e-01 7.06523876e-01\n",
      "   7.28908441e-01]]\n",
      "\n",
      " [[9.79847728e-01 6.10283274e-01 2.53848027e-01 8.70855814e-01\n",
      "   6.20475132e-02]\n",
      "  [7.20553035e-01 7.90082336e-01 7.72106791e-01 8.60610381e-01\n",
      "   2.49360884e-01]\n",
      "  [7.87334621e-04 3.29147508e-01 5.64265366e-02 2.19304041e-01\n",
      "   3.97880846e-01]]]\n"
     ]
    }
   ],
   "source": [
    "#4. Print a.\n",
    "print(a)"
   ]
  },
  {
   "cell_type": "code",
   "execution_count": 6,
   "id": "255fa7db",
   "metadata": {},
   "outputs": [],
   "source": [
    "#5. Create a 5x2x3 3-dimensional array with all values equaling 1.\n",
    "#Assign the array to variable \"b\"\n",
    "\n",
    "b = np.ones((5, 2, 3))"
   ]
  },
  {
   "cell_type": "code",
   "execution_count": 7,
   "id": "efce6fcd",
   "metadata": {},
   "outputs": [
    {
     "name": "stdout",
     "output_type": "stream",
     "text": [
      "[[[1. 1. 1.]\n",
      "  [1. 1. 1.]]\n",
      "\n",
      " [[1. 1. 1.]\n",
      "  [1. 1. 1.]]\n",
      "\n",
      " [[1. 1. 1.]\n",
      "  [1. 1. 1.]]\n",
      "\n",
      " [[1. 1. 1.]\n",
      "  [1. 1. 1.]]\n",
      "\n",
      " [[1. 1. 1.]\n",
      "  [1. 1. 1.]]]\n"
     ]
    }
   ],
   "source": [
    "#6. Print b.\n",
    "print(b)"
   ]
  },
  {
   "cell_type": "code",
   "execution_count": 8,
   "id": "951c9c53",
   "metadata": {},
   "outputs": [
    {
     "name": "stdout",
     "output_type": "stream",
     "text": [
      "30\n",
      "30\n"
     ]
    }
   ],
   "source": [
    "#7. Do a and b have the same size? How do you prove that in Python code?\n",
    "\n",
    "print(a.size)\n",
    "print(b.size)"
   ]
  },
  {
   "cell_type": "code",
   "execution_count": 9,
   "id": "f6fc0cd4",
   "metadata": {},
   "outputs": [
    {
     "ename": "ValueError",
     "evalue": "operands could not be broadcast together with shapes (2,3,5) (5,2,3) ",
     "output_type": "error",
     "traceback": [
      "\u001b[0;31m---------------------------------------------------------------------------\u001b[0m",
      "\u001b[0;31mValueError\u001b[0m                                Traceback (most recent call last)",
      "\u001b[0;32m/var/folders/5f/rym0wm0n03n2y1710sg1wy940000gn/T/ipykernel_81446/31995219.py\u001b[0m in \u001b[0;36m<module>\u001b[0;34m\u001b[0m\n\u001b[1;32m      1\u001b[0m \u001b[0;31m#8. Are you able to add a and b? Why or why not?\u001b[0m\u001b[0;34m\u001b[0m\u001b[0;34m\u001b[0m\u001b[0m\n\u001b[1;32m      2\u001b[0m \u001b[0;34m\u001b[0m\u001b[0m\n\u001b[0;32m----> 3\u001b[0;31m \u001b[0mnp\u001b[0m\u001b[0;34m.\u001b[0m\u001b[0madd\u001b[0m\u001b[0;34m(\u001b[0m\u001b[0ma\u001b[0m\u001b[0;34m,\u001b[0m \u001b[0mb\u001b[0m\u001b[0;34m)\u001b[0m\u001b[0;34m\u001b[0m\u001b[0;34m\u001b[0m\u001b[0m\n\u001b[0m\u001b[1;32m      4\u001b[0m \u001b[0;34m\u001b[0m\u001b[0m\n\u001b[1;32m      5\u001b[0m \u001b[0;31m# Although the size is the same, the matrix shape is not the same to add them together.\u001b[0m\u001b[0;34m\u001b[0m\u001b[0;34m\u001b[0m\u001b[0m\n",
      "\u001b[0;31mValueError\u001b[0m: operands could not be broadcast together with shapes (2,3,5) (5,2,3) "
     ]
    }
   ],
   "source": [
    "#8. Are you able to add a and b? Why or why not?\n",
    "\n",
    "np.add(a, b)\n",
    "\n",
    "# Although the size is the same, the matrix shape is not the same to add them together. \n",
    "# a matrix has a shape of 2x3x5 and b matrix has a shape of 5x2x3."
   ]
  },
  {
   "cell_type": "code",
   "execution_count": 10,
   "id": "bc230ae6",
   "metadata": {},
   "outputs": [
    {
     "name": "stdout",
     "output_type": "stream",
     "text": [
      "[[[1. 1. 1. 1. 1.]\n",
      "  [1. 1. 1. 1. 1.]\n",
      "  [1. 1. 1. 1. 1.]]\n",
      "\n",
      " [[1. 1. 1. 1. 1.]\n",
      "  [1. 1. 1. 1. 1.]\n",
      "  [1. 1. 1. 1. 1.]]]\n"
     ]
    }
   ],
   "source": [
    "#9. Transpose b so that it has the same structure of a (i.e. become a 2x3x5 array). Assign the transposed array to varialbe \"c\".\n",
    "\n",
    "c = b.reshape(2, 3, 5)\n",
    "print(c)"
   ]
  },
  {
   "cell_type": "code",
   "execution_count": 11,
   "id": "4decb385",
   "metadata": {},
   "outputs": [
    {
     "name": "stdout",
     "output_type": "stream",
     "text": [
      "[[[1.87036108 1.18868514 1.36016581 1.99133296 1.1715027 ]\n",
      "  [1.61156748 1.04635733 1.46429825 1.88148193 1.68425146]\n",
      "  [1.57967838 1.65077184 1.5537377  1.70652388 1.72890844]]\n",
      "\n",
      " [[1.97984773 1.61028327 1.25384803 1.87085581 1.06204751]\n",
      "  [1.72055304 1.79008234 1.77210679 1.86061038 1.24936088]\n",
      "  [1.00078733 1.32914751 1.05642654 1.21930404 1.39788085]]]\n"
     ]
    }
   ],
   "source": [
    "#10. Try to add a and c. Now it should work. Assign the sum to varialbe \"d\". \n",
    "# But why does it work now?\n",
    "\n",
    "d = np.add(a, c)\n",
    "print(d)"
   ]
  },
  {
   "cell_type": "code",
   "execution_count": 12,
   "id": "0e12a5ae",
   "metadata": {},
   "outputs": [
    {
     "name": "stdout",
     "output_type": "stream",
     "text": [
      "(2, 3, 5)\n",
      "(5, 2, 3)\n",
      "(2, 3, 5)\n",
      "(2, 3, 5)\n"
     ]
    }
   ],
   "source": [
    "print(a.shape)\n",
    "print(b.shape)\n",
    "print(c.shape)\n",
    "print(d.shape)"
   ]
  },
  {
   "cell_type": "code",
   "execution_count": 13,
   "id": "8f5cbf2e",
   "metadata": {
    "scrolled": true
   },
   "outputs": [
    {
     "name": "stdout",
     "output_type": "stream",
     "text": [
      "[[[8.70361075e-01 1.88685144e-01 3.60165814e-01 9.91332959e-01\n",
      "   1.71502695e-01]\n",
      "  [6.11567477e-01 4.63573269e-02 4.64298253e-01 8.81481931e-01\n",
      "   6.84251463e-01]\n",
      "  [5.79678383e-01 6.50771843e-01 5.53737696e-01 7.06523876e-01\n",
      "   7.28908441e-01]]\n",
      "\n",
      " [[9.79847728e-01 6.10283274e-01 2.53848027e-01 8.70855814e-01\n",
      "   6.20475132e-02]\n",
      "  [7.20553035e-01 7.90082336e-01 7.72106791e-01 8.60610381e-01\n",
      "   2.49360884e-01]\n",
      "  [7.87334621e-04 3.29147508e-01 5.64265366e-02 2.19304041e-01\n",
      "   3.97880846e-01]]]\n",
      "------------\n",
      "[[[1.87036108 1.18868514 1.36016581 1.99133296 1.1715027 ]\n",
      "  [1.61156748 1.04635733 1.46429825 1.88148193 1.68425146]\n",
      "  [1.57967838 1.65077184 1.5537377  1.70652388 1.72890844]]\n",
      "\n",
      " [[1.97984773 1.61028327 1.25384803 1.87085581 1.06204751]\n",
      "  [1.72055304 1.79008234 1.77210679 1.86061038 1.24936088]\n",
      "  [1.00078733 1.32914751 1.05642654 1.21930404 1.39788085]]]\n"
     ]
    }
   ],
   "source": [
    "#11. Print a and d. \n",
    "# Notice the difference and relation of the two array in terms of the values? Explain.\n",
    "\n",
    "print(a)\n",
    "print('------------')\n",
    "print(d)\n",
    "\n",
    "# both arrays have the same shape and matrix d is the sum of matrix a plus the ones\n",
    "# and the a matrix has the random values created over 0 and 1."
   ]
  },
  {
   "cell_type": "code",
   "execution_count": 14,
   "id": "8864e29d",
   "metadata": {},
   "outputs": [
    {
     "name": "stdout",
     "output_type": "stream",
     "text": [
      "[[[8.70361075e-01 1.88685144e-01 3.60165814e-01 9.91332959e-01\n",
      "   1.71502695e-01]\n",
      "  [6.11567477e-01 4.63573269e-02 4.64298253e-01 8.81481931e-01\n",
      "   6.84251463e-01]\n",
      "  [5.79678383e-01 6.50771843e-01 5.53737696e-01 7.06523876e-01\n",
      "   7.28908441e-01]]\n",
      "\n",
      " [[9.79847728e-01 6.10283274e-01 2.53848027e-01 8.70855814e-01\n",
      "   6.20475132e-02]\n",
      "  [7.20553035e-01 7.90082336e-01 7.72106791e-01 8.60610381e-01\n",
      "   2.49360884e-01]\n",
      "  [7.87334621e-04 3.29147508e-01 5.64265366e-02 2.19304041e-01\n",
      "   3.97880846e-01]]]\n"
     ]
    }
   ],
   "source": [
    "#12. Multiply a and c. Assign the result to e.\n",
    "e = a * c\n",
    "print(e)"
   ]
  },
  {
   "cell_type": "code",
   "execution_count": 16,
   "id": "b94d502e",
   "metadata": {},
   "outputs": [
    {
     "name": "stdout",
     "output_type": "stream",
     "text": [
      "[[[8.70361075e-01 1.88685144e-01 3.60165814e-01 9.91332959e-01\n",
      "   1.71502695e-01]\n",
      "  [6.11567477e-01 4.63573269e-02 4.64298253e-01 8.81481931e-01\n",
      "   6.84251463e-01]\n",
      "  [5.79678383e-01 6.50771843e-01 5.53737696e-01 7.06523876e-01\n",
      "   7.28908441e-01]]\n",
      "\n",
      " [[9.79847728e-01 6.10283274e-01 2.53848027e-01 8.70855814e-01\n",
      "   6.20475132e-02]\n",
      "  [7.20553035e-01 7.90082336e-01 7.72106791e-01 8.60610381e-01\n",
      "   2.49360884e-01]\n",
      "  [7.87334621e-04 3.29147508e-01 5.64265366e-02 2.19304041e-01\n",
      "   3.97880846e-01]]]\n",
      "---------------\n",
      "[[[8.70361075e-01 1.88685144e-01 3.60165814e-01 9.91332959e-01\n",
      "   1.71502695e-01]\n",
      "  [6.11567477e-01 4.63573269e-02 4.64298253e-01 8.81481931e-01\n",
      "   6.84251463e-01]\n",
      "  [5.79678383e-01 6.50771843e-01 5.53737696e-01 7.06523876e-01\n",
      "   7.28908441e-01]]\n",
      "\n",
      " [[9.79847728e-01 6.10283274e-01 2.53848027e-01 8.70855814e-01\n",
      "   6.20475132e-02]\n",
      "  [7.20553035e-01 7.90082336e-01 7.72106791e-01 8.60610381e-01\n",
      "   2.49360884e-01]\n",
      "  [7.87334621e-04 3.29147508e-01 5.64265366e-02 2.19304041e-01\n",
      "   3.97880846e-01]]]\n"
     ]
    }
   ],
   "source": [
    "#13. Does e equal to a? Why or why not?\n",
    "\n",
    "print(a)\n",
    "print('---------------')\n",
    "print(e)\n",
    "\n",
    "# a and e are equal because matrix e is the result of multiplying a by c, and c is a matrix of ones."
   ]
  },
  {
   "cell_type": "code",
   "execution_count": 17,
   "id": "68c77f6d",
   "metadata": {},
   "outputs": [
    {
     "name": "stdout",
     "output_type": "stream",
     "text": [
      "1.9913329591165625\n",
      "1.0007873346209388\n",
      "1.5220922142494608\n"
     ]
    }
   ],
   "source": [
    "#14. Identify the max, min, and mean values in d. \n",
    "# Assign those values to variables \"d_max\", \"d_min\", and \"d_mean\"\n",
    "\n",
    "d_max = np.max(d)\n",
    "d_min = np.min(d)\n",
    "d_mean = np.mean(d)\n",
    "\n",
    "print(d_max)\n",
    "print(d_min)\n",
    "print(d_mean)"
   ]
  },
  {
   "cell_type": "code",
   "execution_count": 19,
   "id": "6fb6192d",
   "metadata": {},
   "outputs": [
    {
     "name": "stdout",
     "output_type": "stream",
     "text": [
      "[[[8.70361075e-01 1.88685144e-01 3.60165814e-01 9.91332959e-01\n",
      "   1.71502695e-01]\n",
      "  [6.11567477e-01 4.63573269e-02 4.64298253e-01 8.81481931e-01\n",
      "   6.84251463e-01]\n",
      "  [5.79678383e-01 6.50771843e-01 5.53737696e-01 7.06523876e-01\n",
      "   7.28908441e-01]]\n",
      "\n",
      " [[9.79847728e-01 6.10283274e-01 2.53848027e-01 8.70855814e-01\n",
      "   6.20475132e-02]\n",
      "  [7.20553035e-01 7.90082336e-01 7.72106791e-01 8.60610381e-01\n",
      "   2.49360884e-01]\n",
      "  [7.87334621e-04 3.29147508e-01 5.64265366e-02 2.19304041e-01\n",
      "   3.97880846e-01]]]\n"
     ]
    }
   ],
   "source": [
    "#15. Now we want to label the values in d. \n",
    "# First create an empty array \"f\" with the same shape (i.e. 2x3x5) as d using `np.empty`.\n",
    "\n",
    "f = np.empty([2, 3, 5])\n",
    "print(f)"
   ]
  },
  {
   "cell_type": "raw",
   "id": "fd70cd01",
   "metadata": {},
   "source": [
    "\"\"\"\n",
    "#16. Populate the values in f. For each value in d, if it's larger than d_min but smaller than d_mean, assign 25 to the corresponding value in f.\n",
    "\n",
    "If a value in d is larger than d_mean but smaller than d_max, assign 75 to the corresponding value in f.\n",
    "\n",
    "If a value equals to d_mean, assign 50 to the corresponding value in f.\n",
    "\n",
    "Assign 0 to the corresponding value(s) in f for d_min in d.\n",
    "\n",
    "Assign 100 to the corresponding value(s) in f for d_max in d.\n",
    "\n",
    "In the end, f should have only the following values: 0, 25, 50, 75, and 100.\n",
    "Note: you don't have to use Numpy in this question.\n",
    "\"\"\""
   ]
  },
  {
   "cell_type": "code",
   "execution_count": 21,
   "id": "d03f440c",
   "metadata": {},
   "outputs": [
    {
     "name": "stdout",
     "output_type": "stream",
     "text": [
      "[[[75 25 25 100 25]\n",
      "  [75 25 25 75 75]\n",
      "  [75 75 75 75 75]]\n",
      "\n",
      " [[75 75 25 75 25]\n",
      "  [75 75 75 75 25]\n",
      "  [0 25 25 25 25]]]\n"
     ]
    }
   ],
   "source": [
    "f = np.where((d > d_min) & (d < d_mean), 25, \n",
    "             np.where((d > d_mean) & (d < d_max), 75, \n",
    "                      np.where(d == d_mean, 50, \n",
    "                               np.where(d == d_min, 0, \n",
    "                                        np.where(d == d_max, 100, None)))))\n",
    "print(f)"
   ]
  },
  {
   "cell_type": "raw",
   "id": "af78b463",
   "metadata": {},
   "source": [
    "\"\"\"\n",
    "#17. Print d and f. Do you have your expected f?\n",
    "For instance, if your d is:\n",
    "array([[[1.85836099, 1.67064465, 1.62576044, 1.40243961, 1.88454931],\n",
    "        [1.75354326, 1.69403643, 1.36729252, 1.61415071, 1.12104981],\n",
    "        [1.72201435, 1.1862918 , 1.87078449, 1.7726778 , 1.88180042]],\n",
    "\n",
    "       [[1.44747908, 1.31673383, 1.02000951, 1.52218947, 1.97066381],\n",
    "        [1.79129243, 1.74983003, 1.96028037, 1.85166831, 1.65450881],\n",
    "        [1.18068344, 1.9587381 , 1.00656599, 1.93402165, 1.73514584]]])\n",
    "\n",
    "Your f should be:\n",
    "array([[[ 75.,  75.,  75.,  25.,  75.],\n",
    "        [ 75.,  75.,  25.,  25.,  25.],\n",
    "        [ 75.,  25.,  75.,  75.,  75.]],\n",
    "\n",
    "       [[ 25.,  25.,  25.,  25., 100.],\n",
    "        [ 75.,  75.,  75.,  75.,  75.],\n",
    "        [ 25.,  75.,   0.,  75.,  75.]]])\n",
    "\"\"\""
   ]
  },
  {
   "cell_type": "code",
   "execution_count": 22,
   "id": "f7c2070c",
   "metadata": {},
   "outputs": [
    {
     "name": "stdout",
     "output_type": "stream",
     "text": [
      "[[[75 25 25 100 25]\n",
      "  [75 25 25 75 75]\n",
      "  [75 75 75 75 75]]\n",
      "\n",
      " [[75 75 25 75 25]\n",
      "  [75 75 75 75 25]\n",
      "  [0 25 25 25 25]]]\n"
     ]
    }
   ],
   "source": [
    "print(f)"
   ]
  },
  {
   "cell_type": "raw",
   "id": "d66851c9",
   "metadata": {},
   "source": [
    " \"\"\"\n",
    "#18. Bonus question: instead of using numbers (i.e. 0, 25, 50, 75, and 100), how to use string values \n",
    "(\"A\", \"B\", \"C\", \"D\", and \"E\") to label the array elements? \n",
    "\n",
    "You are expecting the result to be:\n",
    "array([[[ 'D',  'D',  'D',  'B',  'D'],\n",
    "        [ 'D',  'D',  'B',  'B',  'B'],\n",
    "        [ 'D',  'B',  'D',  'D',  'D']],\n",
    "\n",
    "       [[ 'B',  'B',  'B',  'B',  'E'],\n",
    "        [ 'D',  'D',  'D',  'D',  'D'],\n",
    "        [ 'B',  'D',   'A',  'D', 'D']]])\n",
    "        \n",
    "Again, you don't need Numpy in this question."
   ]
  },
  {
   "cell_type": "code",
   "execution_count": 28,
   "id": "82c5d553",
   "metadata": {},
   "outputs": [
    {
     "name": "stdout",
     "output_type": "stream",
     "text": [
      "[[['B' 'D' 'D' 'A' 'D']\n",
      "  ['B' 'D' 'D' 'B' 'B']\n",
      "  ['B' 'B' 'B' 'B' 'B']]\n",
      "\n",
      " [['B' 'B' 'D' 'B' 'D']\n",
      "  ['B' 'B' 'B' 'B' 'D']\n",
      "  ['E' 'D' 'D' 'D' 'D']]]\n"
     ]
    }
   ],
   "source": [
    "# A=100, B=75, C=50, D=25, E=0\n",
    "\n",
    "f_bonus = np.where((d > d_min) & (d < d_mean), 'D', \n",
    "              np.where((d > d_mean) & (d < d_max), 'B', \n",
    "                       np.where(d == d_mean, 'C', \n",
    "                                np.where(d == d_min, 'E', \n",
    "                                         np.where(d == d_max, 'A', None)))))\n",
    "print(f_bonus)"
   ]
  },
  {
   "cell_type": "code",
   "execution_count": null,
   "id": "c3c9a170",
   "metadata": {},
   "outputs": [],
   "source": []
  }
 ],
 "metadata": {
  "kernelspec": {
   "display_name": "Python 3 (ipykernel)",
   "language": "python",
   "name": "python3"
  },
  "language_info": {
   "codemirror_mode": {
    "name": "ipython",
    "version": 3
   },
   "file_extension": ".py",
   "mimetype": "text/x-python",
   "name": "python",
   "nbconvert_exporter": "python",
   "pygments_lexer": "ipython3",
   "version": "3.9.7"
  }
 },
 "nbformat": 4,
 "nbformat_minor": 5
}
